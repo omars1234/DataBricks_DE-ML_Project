{
 "cells": [
  {
   "cell_type": "markdown",
   "metadata": {
    "application/vnd.databricks.v1+cell": {
     "cellMetadata": {
      "byteLimit": 2048000,
      "rowLimit": 10000
     },
     "inputWidgets": {},
     "nuid": "ee9a9ad5-dae9-4715-b105-00cdb69660da",
     "showTitle": false,
     "tableResultSettingsMap": {},
     "title": ""
    }
   },
   "source": [
    "## *Machine Learning*"
   ]
  },
  {
   "cell_type": "code",
   "execution_count": 0,
   "metadata": {
    "application/vnd.databricks.v1+cell": {
     "cellMetadata": {
      "byteLimit": 2048000,
      "rowLimit": 10000
     },
     "inputWidgets": {},
     "nuid": "ee5a79e1-88a6-4b28-99a1-5a5ba0b2fd82",
     "showTitle": false,
     "tableResultSettingsMap": {},
     "title": ""
    }
   },
   "outputs": [],
   "source": [
    "path = \"workspace.homepricesprojectdatawarehouse.goldenhouseprices_info_view\"\n",
    "df = spark.read.table(path)"
   ]
  },
  {
   "cell_type": "code",
   "execution_count": 0,
   "metadata": {
    "application/vnd.databricks.v1+cell": {
     "cellMetadata": {
      "byteLimit": 2048000,
      "rowLimit": 10000
     },
     "inputWidgets": {},
     "nuid": "6ef64a7f-0086-46c7-bc38-65c3cd78fac2",
     "showTitle": false,
     "tableResultSettingsMap": {},
     "title": ""
    }
   },
   "outputs": [],
   "source": [
    "from pyspark.sql import functions as F\n",
    "\n",
    "null_counts = df.select(\n",
    "    [F.count(F.when(F.col(c).isNull(), c)).alias(c) for c in df.columns]\n",
    ")"
   ]
  },
  {
   "cell_type": "code",
   "execution_count": 0,
   "metadata": {
    "application/vnd.databricks.v1+cell": {
     "cellMetadata": {
      "byteLimit": 2048000,
      "rowLimit": 10000
     },
     "inputWidgets": {},
     "nuid": "772a9df2-f238-4c93-9342-32ad6d78ad3d",
     "showTitle": false,
     "tableResultSettingsMap": {},
     "title": ""
    }
   },
   "outputs": [],
   "source": [
    "from pyspark.sql.functions import * # month, when, col\n",
    "df=df.withColumn('month', month(df['Date_sold']))\\\n",
    "    .withColumn(\"Average_Price_per_Bedroom\",when(df[\"Number_Of_Bedrooms\"] > 0, df['price'] / df['Number_Of_Bedrooms'])\\\n",
    "    .otherwise(0))\n",
    "df = df.select([col(c).alias(c.capitalize()) for c in df.columns])"
   ]
  },
  {
   "cell_type": "code",
   "execution_count": 0,
   "metadata": {
    "application/vnd.databricks.v1+cell": {
     "cellMetadata": {
      "byteLimit": 2048000,
      "rowLimit": 10000
     },
     "inputWidgets": {},
     "nuid": "dacd9bd5-5819-4fee-8d3b-61d03c4774d4",
     "showTitle": false,
     "tableResultSettingsMap": {},
     "title": ""
    }
   },
   "outputs": [],
   "source": [
    "dfpd = df.toPandas()"
   ]
  },
  {
   "cell_type": "code",
   "execution_count": 0,
   "metadata": {
    "application/vnd.databricks.v1+cell": {
     "cellMetadata": {
      "byteLimit": 2048000,
      "rowLimit": 10000
     },
     "inputWidgets": {},
     "nuid": "02d0ca41-6617-4c6b-8092-4fd2047d2567",
     "showTitle": false,
     "tableResultSettingsMap": {},
     "title": ""
    }
   },
   "outputs": [],
   "source": [
    "from sklearn.preprocessing import StandardScaler,MinMaxScaler,PowerTransformer,OneHotEncoder,OrdinalEncoder\n",
    "from sklearn.pipeline import Pipeline\n",
    "from sklearn.compose import ColumnTransformer\n",
    "\n",
    "\n",
    "x=dfpd.drop([\"Date_sold\",\"Price\",\"Month_name\"],axis=1)\n",
    "y=dfpd[\"Price\"]\n",
    "\n",
    "numeric_transformer = MinMaxScaler()\n",
    "oneh_categorical_transformer=OneHotEncoder(sparse_output=False)\n",
    "Ordinal_categorical_transformer=OrdinalEncoder()\n",
    "\n",
    "transform_columns = [\"Average_price_per_bedroom\"]\n",
    "num_features = [\"Average_price_per_bedroom\"]\n",
    "oneh_features=[\"Region_postcode\",\"Property_type\"]\n",
    "Ordinal_features=[\"Number_of_bedrooms\",\"Month\",\"Day_name\",\"Year_date\"]\n",
    "\n",
    "transform_pipe = Pipeline(steps=[\n",
    "                ('transformer', PowerTransformer(method='yeo-johnson'))\n",
    "\n",
    "            ])\n",
    "preprocessor = ColumnTransformer(\n",
    "                [\n",
    "                    (\"Transformer\", transform_pipe, transform_columns),\n",
    "                    (\"StandardScaler\", numeric_transformer, num_features),\n",
    "                    (\"OrdinalEncoder\", Ordinal_categorical_transformer, Ordinal_features),\n",
    "                    (\"OneHotEncoder\", oneh_categorical_transformer, oneh_features),\n",
    "                    \n",
    "                ]\n",
    "            )\n",
    "\n",
    "preprocessed_data=preprocessor.fit_transform(x)            "
   ]
  },
  {
   "cell_type": "code",
   "execution_count": 0,
   "metadata": {
    "application/vnd.databricks.v1+cell": {
     "cellMetadata": {
      "byteLimit": 2048000,
      "rowLimit": 10000
     },
     "inputWidgets": {},
     "nuid": "6e13dc6a-9666-43b5-877a-62570e1123e1",
     "showTitle": false,
     "tableResultSettingsMap": {},
     "title": ""
    }
   },
   "outputs": [],
   "source": [
    "import mlflow\n",
    "import numpy as np\n",
    "from sklearn.model_selection import KFold\n",
    "from sklearn.ensemble import (\n",
    "    RandomForestRegressor, GradientBoostingRegressor, \n",
    "    AdaBoostRegressor, BaggingRegressor\n",
    ")\n",
    "from sklearn.neighbors import KNeighborsRegressor\n",
    "from sklearn.linear_model import SGDRegressor\n",
    "from sklearn.tree import DecisionTreeRegressor\n",
    "from sklearn.metrics import mean_squared_error"
   ]
  },
  {
   "cell_type": "code",
   "execution_count": 0,
   "metadata": {
    "application/vnd.databricks.v1+cell": {
     "cellMetadata": {
      "byteLimit": 2048000,
      "rowLimit": 10000
     },
     "inputWidgets": {},
     "nuid": "f52a27ba-be51-4ccb-946a-66f446ee9083",
     "showTitle": false,
     "tableResultSettingsMap": {},
     "title": ""
    }
   },
   "outputs": [],
   "source": [
    "with mlflow.start_run(run_name=\"Cross-Validation Experiment-House Pricing Project\"):\n",
    "    kf = KFold(n_splits=10, shuffle=True, random_state=42)\n",
    "\n",
    "    models = {\n",
    "        \"RandomForestRegressor\": RandomForestRegressor(),\n",
    "        \"GradientBoostingRegressor\": GradientBoostingRegressor(),\n",
    "        \"AdaBoostRegressor\": AdaBoostRegressor(),\n",
    "        \"KNeighborsRegressor\": KNeighborsRegressor(),\n",
    "        \"SGDRegressor\": SGDRegressor(),\n",
    "        \"BaggingRegressor\": BaggingRegressor(DecisionTreeRegressor(), n_estimators=500)\n",
    "    }\n",
    "\n",
    "    for model_name, model_instance in models.items():\n",
    "       \n",
    "        with mlflow.start_run(nested=True, run_name=model_name):\n",
    "            mlflow.log_param(\"model_type\", model_name)\n",
    "            fold_metrics = []\n",
    "\n",
    "            for fold_idx, (train_index, test_index) in enumerate(kf.split(preprocessed_data)):\n",
    "                with mlflow.start_run(nested=True, run_name=f\"{model_name}_Fold_{fold_idx}\"):\n",
    "                    X_train, X_test = preprocessed_data[train_index], preprocessed_data[test_index]\n",
    "                    y_train, y_val = y[train_index], y[test_index]\n",
    "\n",
    "                    model_instance.fit(X_train, y_train)\n",
    "                    predictions = model_instance.predict(X_test)\n",
    "\n",
    "                 \n",
    "                    rmse = np.sqrt(mean_squared_error(y_val, predictions))\n",
    "                    mlflow.log_metric(\"RMSE\", rmse)\n",
    "                    fold_metrics.append(rmse)\n",
    "\n",
    "            avg_rmse = np.mean(fold_metrics)\n",
    "            mlflow.log_metric(\"avg_RMSE\", avg_rmse)\n"
   ]
  },
  {
   "cell_type": "code",
   "execution_count": 0,
   "metadata": {
    "application/vnd.databricks.v1+cell": {
     "cellMetadata": {
      "byteLimit": 2048000,
      "rowLimit": 10000
     },
     "inputWidgets": {},
     "nuid": "9263cdf9-b9e7-4b7e-a2ac-e8f000a71c96",
     "showTitle": false,
     "tableResultSettingsMap": {},
     "title": ""
    }
   },
   "outputs": [],
   "source": [
    "from sklearn.model_selection import train_test_split\n",
    "\n",
    "X_train, X_test, y_train, y_test = train_test_split(\n",
    "    preprocessed_data, y, test_size=0.3, random_state=42\n",
    ")\n",
    "model = GradientBoostingRegressor()\n",
    "model.fit(X_train, y_train)\n",
    "y_pred = model.predict(X_test)\n",
    "final_mse = mean_squared_error(y_test, y_pred)\n",
    "final_rmse = np.sqrt(final_mse)\n",
    "\n",
    "print(\"Test set MSE:\", np.round(final_mse, 2))\n",
    "print(\"Test set RMSE:\", np.round(final_rmse, 2))"
   ]
  },
  {
   "cell_type": "code",
   "execution_count": 0,
   "metadata": {
    "application/vnd.databricks.v1+cell": {
     "cellMetadata": {
      "byteLimit": 2048000,
      "rowLimit": 10000
     },
     "inputWidgets": {},
     "nuid": "049195fe-7d16-4d64-a7ae-32b85e0426a2",
     "showTitle": false,
     "tableResultSettingsMap": {},
     "title": ""
    }
   },
   "outputs": [],
   "source": [
    "import seaborn as sns\n",
    "import matplotlib\n",
    "import matplotlib.pyplot as plt\n",
    "\n",
    "matplotlib.rcParams[\"figure.figsize\"] = (20, 5)\n",
    "\n",
    "y_val = y_test\n",
    "plt.subplot(121)\n",
    "sns.regplot(x=y_test, y=y_pred, ci=95, color=\"red\")\n",
    "\n",
    "plt.subplot(122)\n",
    "sns.residplot(x=y_test, y=y_pred)\n",
    "plt.xlabel(\"Price\")\n",
    "plt.ylabel(\"Residuals\");"
   ]
  },
  {
   "cell_type": "code",
   "execution_count": 0,
   "metadata": {
    "application/vnd.databricks.v1+cell": {
     "cellMetadata": {
      "byteLimit": 2048000,
      "implicitDf": true,
      "rowLimit": 10000
     },
     "inputWidgets": {},
     "nuid": "8f41f43b-0515-4101-806d-8cd4ec91e9ee",
     "showTitle": false,
     "tableResultSettingsMap": {},
     "title": ""
    }
   },
   "outputs": [],
   "source": [
    "%sql\n",
    "DROP VIEW   goldenhouseprices_info_view"
   ]
  },
  {
   "cell_type": "code",
   "execution_count": 0,
   "metadata": {
    "application/vnd.databricks.v1+cell": {
     "cellMetadata": {},
     "inputWidgets": {},
     "nuid": "e3b60caf-8027-465c-b81e-aef4689724b7",
     "showTitle": false,
     "tableResultSettingsMap": {},
     "title": ""
    }
   },
   "outputs": [],
   "source": []
  }
 ],
 "metadata": {
  "application/vnd.databricks.v1+notebook": {
   "computePreferences": null,
   "dashboards": [],
   "environmentMetadata": {
    "base_environment": "",
    "environment_version": "3"
   },
   "inputWidgetPreferences": null,
   "language": "python",
   "notebookMetadata": {
    "mostRecentlyExecutedCommandWithImplicitDF": {
     "commandId": 2743823467477829,
     "dataframes": [
      "_sqldf"
     ]
    },
    "pythonIndentUnit": 4
   },
   "notebookName": "Simple_Machine_Learning",
   "widgets": {}
  },
  "language_info": {
   "name": "python"
  }
 },
 "nbformat": 4,
 "nbformat_minor": 0
}
