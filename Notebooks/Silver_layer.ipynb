{
 "cells": [
  {
   "cell_type": "code",
   "execution_count": 0,
   "metadata": {
    "application/vnd.databricks.v1+cell": {
     "cellMetadata": {},
     "inputWidgets": {},
     "nuid": "4d808d8f-8a34-456d-86be-2071a42e2f97",
     "showTitle": false,
     "tableResultSettingsMap": {},
     "title": ""
    }
   },
   "outputs": [],
   "source": [
    "%sql\n",
    "USE HomePricesProjectDataWarehouse;\n",
    "\n",
    "CREATE TABLE IF NOT EXISTS SilverHousePrices_info (\n",
    "  Date_Sold DATE,\n",
    "  Region_Postcode STRING,\n",
    "  Property_Type STRING,\n",
    "  Number_Of_Bedrooms INT,\n",
    "  price INT,\n",
    "  Year_DATE INT,\n",
    "  Month_Name STRING,\n",
    "  Day_Name STRING,\n",
    "  Average_Price_per_Bedroom DOUBLE\n",
    ")"
   ]
  },
  {
   "cell_type": "code",
   "execution_count": 0,
   "metadata": {
    "application/vnd.databricks.v1+cell": {
     "cellMetadata": {},
     "inputWidgets": {},
     "nuid": "4e6d3331-886f-4c34-8ac0-14a5fcf97ff4",
     "showTitle": false,
     "tableResultSettingsMap": {},
     "title": ""
    }
   },
   "outputs": [],
   "source": [
    "%sql\n",
    "TRUNCATE TABLE SilverHousePrices_info;\n",
    "\n",
    "INSERT INTO SilverHousePrices_info (\n",
    "    Date_Sold,\n",
    "    Region_Postcode,\n",
    "    Property_Type,\n",
    "    Number_Of_Bedrooms,\n",
    "    Price,\n",
    "    Year_DATE,\n",
    "    Month_Name,\n",
    "    Day_Name,\n",
    "    Average_Price_per_Bedroom\n",
    "  )\n",
    "  SELECT\n",
    "    datesold AS Date_Sold,\n",
    "    TRIM(postcode) AS Region_Postcode,\n",
    "    TRIM(propertyType) AS Property_Type,\n",
    "    cast(bedrooms AS int) AS Number_Of_Bedrooms,\n",
    "    cast(price AS int) AS Price,\n",
    "    YEAR(Date_Sold) As Year_DATE,\n",
    "    date_format(Date_Sold, 'MMMM') AS Month_Name,\n",
    "    dayofmonth(Date_Sold) As Day_month,\n",
    "    Price / NULLIF(Number_Of_Bedrooms, 0) As Average_Price_per_Bedroom\n",
    "  FROM\n",
    "    BronzeHousePrices_info"
   ]
  }
 ],
 "metadata": {
  "application/vnd.databricks.v1+notebook": {
   "computePreferences": null,
   "dashboards": [],
   "environmentMetadata": {
    "base_environment": "",
    "environment_version": "3"
   },
   "inputWidgetPreferences": null,
   "language": "python",
   "notebookMetadata": {
    "pythonIndentUnit": 4
   },
   "notebookName": "Silver_layer",
   "widgets": {}
  },
  "language_info": {
   "name": "python"
  }
 },
 "nbformat": 4,
 "nbformat_minor": 0
}
